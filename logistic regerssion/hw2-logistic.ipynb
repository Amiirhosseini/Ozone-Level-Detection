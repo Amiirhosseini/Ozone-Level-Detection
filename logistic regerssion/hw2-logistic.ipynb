{
 "cells": [
  {
   "cell_type": "markdown",
   "metadata": {},
   "source": [
    "**Amirreza Hosseini** *9820363* <br>\n",
    "HW2"
   ]
  },
  {
   "cell_type": "code",
   "execution_count": 9,
   "metadata": {},
   "outputs": [],
   "source": [
    "import numpy as np \n",
    "from numpy import log,dot,exp,shape\n",
    "from random import random\n",
    "import pandas as pd\n",
    "import numpy as np\n",
    "import matplotlib.pyplot as plt"
   ]
  },
  {
   "cell_type": "markdown",
   "metadata": {},
   "source": [
    "*reading the data*"
   ]
  },
  {
   "cell_type": "code",
   "execution_count": 10,
   "metadata": {},
   "outputs": [],
   "source": [
    "df = pd.read_csv('.\\\\Ozone Level Detection.data', sep=',', header=None)"
   ]
  },
  {
   "cell_type": "markdown",
   "metadata": {},
   "source": [
    "*handling the missing values*"
   ]
  },
  {
   "cell_type": "code",
   "execution_count": 11,
   "metadata": {},
   "outputs": [],
   "source": [
    "#change every ? to random number\n",
    "df.replace('?', random(), inplace=True)"
   ]
  },
  {
   "cell_type": "markdown",
   "metadata": {},
   "source": [
    "*K fold cross validation* <br>\n",
    "partition df into 3 parts <br>\n",
    "train, test, validation <br>\n",
    "K=3 <br>\n",
    "70% for train <br>\n",
    "20% for test <br>\n",
    "10% for validation"
   ]
  },
  {
   "cell_type": "code",
   "execution_count": 12,
   "metadata": {},
   "outputs": [],
   "source": [
    "train = df.iloc[:int(len(df)*0.7)]\n",
    "test = df.iloc[int(len(df)*0.7):int(len(df)*0.9)]\n",
    "validation = df.iloc[int(len(df)*0.9):]"
   ]
  },
  {
   "cell_type": "markdown",
   "metadata": {},
   "source": [
    "*extracting x & y from data* <br>\n",
    "also remove the date filed from data and fix the data"
   ]
  },
  {
   "cell_type": "code",
   "execution_count": 13,
   "metadata": {},
   "outputs": [],
   "source": [
    "y_tr=train.iloc[:,73:74]\n",
    "X_tr=train.iloc[:, 1:-1]\n",
    "\n",
    "y_te=test.iloc[:,73:74]\n",
    "X_te=test.iloc[:, 1:-1]\n",
    "\n",
    "y_val=validation.iloc[:,73:74]\n",
    "X_val=validation.iloc[:, 1:-1]\n",
    "\n",
    "#convert X_tr to np.array\n",
    "X_tr = np.array(X_tr)\n",
    "#convert y_tr to np.array\n",
    "y_tr = np.array(y_tr)\n",
    "\n",
    "#convert x_te to np.array\n",
    "X_te = np.array(X_te)\n",
    "\n",
    "#convert y_te to np.array\n",
    "y_te = np.array(y_te)\n",
    "\n",
    "#convert X_val to np.array\n",
    "X_val = np.array(X_val)\n",
    "\n",
    "#convert y_val to np.array\n",
    "y_val = np.array(y_val)\n",
    "\n",
    "#remove the string from x_tre\n",
    "X_tr = X_tr.astype(float)\n",
    "#remove the string from y_tre\n",
    "y_tr = y_tr.astype(int)\n",
    "\n",
    "#remove the string from x_te\n",
    "X_te = X_te.astype(float)\n",
    "\n",
    "#remove the string from y_te\n",
    "y_te = y_te.astype(int)\n",
    "\n",
    "#remove the string from x_val\n",
    "X_val = X_val.astype(float)\n",
    "\n",
    "#remove the string from y_val\n",
    "y_val = y_val.astype(int)"
   ]
  },
  {
   "cell_type": "markdown",
   "metadata": {},
   "source": [
    "*Standardization* <br>\n",
    "Standardization is the process of scaling data around the mean with a unit standard deviation. <br>\n",
    "we need this for this type of data \n"
   ]
  },
  {
   "cell_type": "code",
   "execution_count": 14,
   "metadata": {},
   "outputs": [],
   "source": [
    "def standardize(X_tr):\n",
    "    for i in range(shape(X_tr)[1]):\n",
    "        X_tr[:,i] = (X_tr[:,i] - np.mean(X_tr[:,i]))/np.std(X_tr[:,i])"
   ]
  },
  {
   "cell_type": "markdown",
   "metadata": {},
   "source": [
    "call the above function for our data"
   ]
  },
  {
   "cell_type": "code",
   "execution_count": 15,
   "metadata": {},
   "outputs": [],
   "source": [
    "standardize(X_tr)\n",
    "standardize(X_te)\n",
    "standardize(X_val)"
   ]
  },
  {
   "cell_type": "markdown",
   "metadata": {},
   "source": [
    "**Logistic Regression class** <br>\n",
    "*included:* <br>\n",
    "Sigmoid Function <br>\n",
    "Cost Function <br>\n",
    "Gradient Descent <br>\n",
    "Prediction"
   ]
  },
  {
   "cell_type": "code",
   "execution_count": 16,
   "metadata": {},
   "outputs": [],
   "source": [
    "class LogisticRegression:\n",
    "    def __init__(self,lr=0.001,num_iter=1000,fit_intercept=True,verbose=False):\n",
    "        self.lr = lr\n",
    "        self.num_iter = num_iter\n",
    "        self.fit_intercept = fit_intercept\n",
    "        self.verbose = verbose\n",
    "\n",
    "\n",
    "    def sigmoid(self,z):\n",
    "        sig = 1/(1+np.exp(-z))\n",
    "        return sig\n",
    "    \n",
    "    \n",
    "    def initialize(self,X):\n",
    "        weights = np.zeros((shape(X)[1]+1,1))\n",
    "        X = np.c_[np.ones((shape(X)[0],1)),X]\n",
    "        return weights,X\n",
    "    \n",
    "    def GD(self,X,y,learning_rate=0.001,epoch=400):\n",
    "        weights,X = self.initialize(X)\n",
    "        def cost(theta):\n",
    "            z = dot(X,theta)\n",
    "            cost0 = y.T.dot(log(self.sigmoid(z)))\n",
    "            cost1 = (1-y).T.dot(log(1-self.sigmoid(z)))\n",
    "            cost = -((cost1 + cost0))/len(y)\n",
    "            return cost\n",
    "            \n",
    "        cost_list = np.zeros(epoch,)\n",
    "        for i in range(epoch):\n",
    "            z = dot(X,weights)\n",
    "            grad = dot(X.T,(self.sigmoid(z)-y))/len(y)\n",
    "            weights = weights - learning_rate*grad\n",
    "            cost_list[i] = cost(weights)\n",
    "            \n",
    "        self.weights = weights\n",
    "        return cost_list\n",
    "    \n",
    "    #threshold for the sigmoid function is 0.5\n",
    "    def predict(self,X):\n",
    "        z = dot(self.initialize(X)[1],self.weights)\n",
    "        lis = []\n",
    "        for i in self.sigmoid(z):\n",
    "            if i>0.5:\n",
    "                lis.append(1)\n",
    "            else:\n",
    "                lis.append(0)\n",
    "        return lis\n",
    "    \n",
    "    def accuracy(self,y,y_hat):\n",
    "        count = 0\n",
    "        for i in range(len(y)):\n",
    "            if y[i] == y_hat[i]:\n",
    "                count += 1\n",
    "        return count/len(y)"
   ]
  },
  {
   "cell_type": "markdown",
   "metadata": {},
   "source": [
    "*create instance from class* <br>\n",
    "and run the model"
   ]
  },
  {
   "cell_type": "code",
   "execution_count": 17,
   "metadata": {},
   "outputs": [],
   "source": [
    "obj1 = LogisticRegression()\n",
    "model= obj1.GD(X_tr,y_tr)\n",
    "y_pred = obj1.predict(X_te)\n",
    "y_train = obj1.predict(X_tr)"
   ]
  },
  {
   "cell_type": "markdown",
   "metadata": {},
   "source": [
    "print the accuracy of output"
   ]
  },
  {
   "cell_type": "code",
   "execution_count": 18,
   "metadata": {},
   "outputs": [
    {
     "name": "stdout",
     "output_type": "stream",
     "text": [
      "Accuracy on training set: 0.9064788732394367\n",
      "Accuracy on test set: 0.9092702169625246\n",
      "Accuracy on validation set: 0.9015748031496063\n"
     ]
    }
   ],
   "source": [
    "#print the accuracy\n",
    "print(\"Accuracy on training set:\",obj1.accuracy(y_tr,y_train))\n",
    "print(\"Accuracy on test set:\",obj1.accuracy(y_te,y_pred))\n",
    "print(\"Accuracy on validation set:\",obj1.accuracy(y_val,obj1.predict(X_val)))"
   ]
  },
  {
   "cell_type": "markdown",
   "metadata": {},
   "source": [
    "*print avrage and standard deviation of the weights* <br>\n",
    "we know weights[0] is bias"
   ]
  },
  {
   "cell_type": "code",
   "execution_count": 19,
   "metadata": {},
   "outputs": [
    {
     "name": "stdout",
     "output_type": "stream",
     "text": [
      "Average of the weights: -0.003072009455014844\n",
      "Standard deviation of the weights: 0.020904895399448745\n"
     ]
    }
   ],
   "source": [
    "\n",
    "print(\"Average of the weights:\",np.mean(obj1.weights))\n",
    "print(\"Standard deviation of the weights:\",np.std(obj1.weights))"
   ]
  },
  {
   "cell_type": "markdown",
   "metadata": {},
   "source": [
    "*plotting sigmoid function*"
   ]
  },
  {
   "cell_type": "code",
   "execution_count": 23,
   "metadata": {},
   "outputs": [
    {
     "data": {
      "image/png": "[encoded data removed]",
      "text/plain": [
       "<Figure size 432x288 with 1 Axes>"
      ]
     },
     "metadata": {
      "needs_background": "light"
     },
     "output_type": "display_data"
    }
   ],
   "source": [
    "x = np.linspace(-10,10,100)\n",
    "y = obj1.sigmoid(x)\n",
    "plt.plot(x,y)\n",
    "plt.xlabel('x')\n",
    "plt.ylabel('y')\n",
    "plt.title('Sigmoid function')\n",
    "plt.show()"
   ]
  },
  {
   "cell_type": "markdown",
   "metadata": {},
   "source": [
    "*plotting the cost function*"
   ]
  },
  {
   "cell_type": "code",
   "execution_count": 20,
   "metadata": {},
   "outputs": [
    {
     "data": {
      "image/png": "[encoded data removed]",
      "text/plain": [
       "<Figure size 432x288 with 1 Axes>"
      ]
     },
     "metadata": {
      "needs_background": "light"
     },
     "output_type": "display_data"
    }
   ],
   "source": [
    "#plotting the cost function\n",
    "plt.plot(model)\n",
    "plt.xlabel('Number of iterations')\n",
    "plt.ylabel('Cost')\n",
    "plt.title('Cost function')\n",
    "plt.show()"
   ]
  },
  {
   "cell_type": "markdown",
   "metadata": {},
   "source": [
    "*plotting the decision boundary*"
   ]
  },
  {
   "cell_type": "code",
   "execution_count": 21,
   "metadata": {},
   "outputs": [
    {
     "ename": "ValueError",
     "evalue": "shapes (6237,3) and (73,1) not aligned: 3 (dim 1) != 73 (dim 0)",
     "output_type": "error",
     "traceback": [
      "\u001b[1;31m---------------------------------------------------------------------------\u001b[0m",
      "\u001b[1;31mValueError\u001b[0m                                Traceback (most recent call last)",
      "\u001b[1;32me:\\in progress 2\\computational intelligence\\taklif\\2\\logistic regerssion\\hw2-logistic.ipynb Cell 26'\u001b[0m in \u001b[0;36m<module>\u001b[1;34m\u001b[0m\n\u001b[0;32m      <a href='vscode-notebook-cell:/e%3A/in%20progress%202/computational%20intelligence/taklif/2/logistic%20regerssion/hw2-logistic.ipynb#ch0000023?line=3'>4</a>\u001b[0m f, axarr \u001b[39m=\u001b[39m plt\u001b[39m.\u001b[39msubplots(\u001b[39m1\u001b[39m, \u001b[39m2\u001b[39m, sharex\u001b[39m=\u001b[39m\u001b[39m'\u001b[39m\u001b[39mcol\u001b[39m\u001b[39m'\u001b[39m, sharey\u001b[39m=\u001b[39m\u001b[39m'\u001b[39m\u001b[39mrow\u001b[39m\u001b[39m'\u001b[39m, figsize\u001b[39m=\u001b[39m(\u001b[39m10\u001b[39m, \u001b[39m5\u001b[39m))\n\u001b[0;32m      <a href='vscode-notebook-cell:/e%3A/in%20progress%202/computational%20intelligence/taklif/2/logistic%20regerssion/hw2-logistic.ipynb#ch0000023?line=4'>5</a>\u001b[0m \u001b[39mfor\u001b[39;00m idx, clf, tt \u001b[39min\u001b[39;00m \u001b[39mzip\u001b[39m([\u001b[39m0\u001b[39m, \u001b[39m1\u001b[39m], [obj1, obj1], [\u001b[39m'\u001b[39m\u001b[39mLogistic Regression\u001b[39m\u001b[39m'\u001b[39m, \u001b[39m'\u001b[39m\u001b[39mLogistic Regression\u001b[39m\u001b[39m'\u001b[39m]):\n\u001b[1;32m----> <a href='vscode-notebook-cell:/e%3A/in%20progress%202/computational%20intelligence/taklif/2/logistic%20regerssion/hw2-logistic.ipynb#ch0000023?line=5'>6</a>\u001b[0m     Z \u001b[39m=\u001b[39m clf\u001b[39m.\u001b[39;49mpredict(np\u001b[39m.\u001b[39;49mc_[xx\u001b[39m.\u001b[39;49mravel(), yy\u001b[39m.\u001b[39;49mravel()])\n\u001b[0;32m      <a href='vscode-notebook-cell:/e%3A/in%20progress%202/computational%20intelligence/taklif/2/logistic%20regerssion/hw2-logistic.ipynb#ch0000023?line=6'>7</a>\u001b[0m     Z \u001b[39m=\u001b[39m Z\u001b[39m.\u001b[39mreshape(xx\u001b[39m.\u001b[39mshape)\n\u001b[0;32m      <a href='vscode-notebook-cell:/e%3A/in%20progress%202/computational%20intelligence/taklif/2/logistic%20regerssion/hw2-logistic.ipynb#ch0000023?line=7'>8</a>\u001b[0m     axarr[idx]\u001b[39m.\u001b[39mcontourf(xx, yy, Z, alpha\u001b[39m=\u001b[39m\u001b[39m0.3\u001b[39m)\n",
      "\u001b[1;32me:\\in progress 2\\computational intelligence\\taklif\\2\\logistic regerssion\\hw2-logistic.ipynb Cell 16'\u001b[0m in \u001b[0;36mLogisticRegression.predict\u001b[1;34m(self, X)\u001b[0m\n\u001b[0;32m     <a href='vscode-notebook-cell:/e%3A/in%20progress%202/computational%20intelligence/taklif/2/logistic%20regerssion/hw2-logistic.ipynb#ch0000015?line=38'>39</a>\u001b[0m \u001b[39mdef\u001b[39;00m \u001b[39mpredict\u001b[39m(\u001b[39mself\u001b[39m,X):\n\u001b[1;32m---> <a href='vscode-notebook-cell:/e%3A/in%20progress%202/computational%20intelligence/taklif/2/logistic%20regerssion/hw2-logistic.ipynb#ch0000015?line=39'>40</a>\u001b[0m     z \u001b[39m=\u001b[39m dot(\u001b[39mself\u001b[39;49m\u001b[39m.\u001b[39;49minitialize(X)[\u001b[39m1\u001b[39;49m],\u001b[39mself\u001b[39;49m\u001b[39m.\u001b[39;49mweights)\n\u001b[0;32m     <a href='vscode-notebook-cell:/e%3A/in%20progress%202/computational%20intelligence/taklif/2/logistic%20regerssion/hw2-logistic.ipynb#ch0000015?line=40'>41</a>\u001b[0m     lis \u001b[39m=\u001b[39m []\n\u001b[0;32m     <a href='vscode-notebook-cell:/e%3A/in%20progress%202/computational%20intelligence/taklif/2/logistic%20regerssion/hw2-logistic.ipynb#ch0000015?line=41'>42</a>\u001b[0m     \u001b[39mfor\u001b[39;00m i \u001b[39min\u001b[39;00m \u001b[39mself\u001b[39m\u001b[39m.\u001b[39msigmoid(z):\n",
      "File \u001b[1;32m<__array_function__ internals>:180\u001b[0m, in \u001b[0;36mdot\u001b[1;34m(*args, **kwargs)\u001b[0m\n",
      "\u001b[1;31mValueError\u001b[0m: shapes (6237,3) and (73,1) not aligned: 3 (dim 1) != 73 (dim 0)"
     ]
    },
    {
     "data": {
      "image/png": "[encoded data removed]",
      "text/plain": [
       "<Figure size 720x360 with 2 Axes>"
      ]
     },
     "metadata": {
      "needs_background": "light"
     },
     "output_type": "display_data"
    }
   ],
   "source": [
    "x_min, x_max = X_tr[:, 1].min() - 1, X_tr[:, 1].max() + 1\n",
    "y_min, y_max = X_tr[:, 2].min() - 1, X_tr[:, 2].max() + 1\n",
    "xx, yy = np.meshgrid(np.arange(x_min, x_max, 0.1),np.arange(y_min, y_max, 0.1))\n",
    "f, axarr = plt.subplots(1, 2, sharex='col', sharey='row', figsize=(10, 5))\n",
    "for idx, clf, tt in zip([0, 1], [obj1, obj1], ['Logistic Regression', 'Logistic Regression']):\n",
    "    Z = clf.predict(np.c_[xx.ravel(), yy.ravel()])\n",
    "    Z = Z.reshape(xx.shape)\n",
    "    axarr[idx].contourf(xx, yy, Z, alpha=0.3)\n",
    "    axarr[idx].scatter(X_tr[y_tr==0, 1], X_tr[y_tr==0, 2], c='blue', marker='^')\n",
    "    axarr[idx].scatter(X_tr[y_tr==1, 1], X_tr[y_tr==1, 2], c='red', marker='o')\n",
    "    axarr[idx].set_title(tt)\n",
    "plt.show()"
   ]
  }
 ],
 "metadata": {
  "interpreter": {
   "hash": "5ff9d546f78a45e6703bb7c09f46b817ecce56a1eb2e1f2195fbbfca60f66129"
  },
  "kernelspec": {
   "display_name": "Python 3.10.2 64-bit",
   "language": "python",
   "name": "python3"
  },
  "language_info": {
   "codemirror_mode": {
    "name": "ipython",
    "version": 3
   },
   "file_extension": ".py",
   "mimetype": "text/x-python",
   "name": "python",
   "nbconvert_exporter": "python",
   "pygments_lexer": "ipython3",
   "version": "3.10.2"
  },
  "orig_nbformat": 4
 },
 "nbformat": 4,
 "nbformat_minor": 2
}
