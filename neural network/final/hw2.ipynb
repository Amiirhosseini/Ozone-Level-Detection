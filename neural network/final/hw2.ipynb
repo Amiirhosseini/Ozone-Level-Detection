{
 "cells": [
  {
   "cell_type": "markdown",
   "metadata": {},
   "source": [
    "**Amirreza Hosseini** *9820363* <br>\n",
    "HW2"
   ]
  },
  {
   "cell_type": "code",
   "execution_count": 1,
   "metadata": {},
   "outputs": [
    {
     "name": "stderr",
     "output_type": "stream",
     "text": [
      "C:\\Users\\Amir\\AppData\\Local\\Programs\\Python\\Python310\\lib\\site-packages\\tqdm\\auto.py:22: TqdmWarning: IProgress not found. Please update jupyter and ipywidgets. See https://ipywidgets.readthedocs.io/en/stable/user_install.html\n",
      "  from .autonotebook import tqdm as notebook_tqdm\n"
     ]
    }
   ],
   "source": [
    "from random import random\n",
    "import pandas as pd\n",
    "import torch\n",
    "import numpy as np"
   ]
  },
  {
   "cell_type": "markdown",
   "metadata": {},
   "source": [
    "*reading the data*"
   ]
  },
  {
   "cell_type": "code",
   "execution_count": 2,
   "metadata": {},
   "outputs": [],
   "source": [
    "df = pd.read_csv('.\\\\Ozone Level Detection.data', sep=',', header=None)"
   ]
  },
  {
   "cell_type": "markdown",
   "metadata": {},
   "source": [
    "*handling the missing values*"
   ]
  },
  {
   "cell_type": "code",
   "execution_count": 3,
   "metadata": {},
   "outputs": [],
   "source": [
    "#change every ? to random number\n",
    "df.replace('?', random(), inplace=True)"
   ]
  },
  {
   "cell_type": "markdown",
   "metadata": {},
   "source": [
    "*K fold cross validation* <br>\n",
    "partition df into 3 parts <br>\n",
    "train, test, validation <br>\n",
    "K=3 <br>\n",
    "70% for train <br>\n",
    "20% for test <br>\n",
    "10% for validation"
   ]
  },
  {
   "cell_type": "code",
   "execution_count": 4,
   "metadata": {},
   "outputs": [],
   "source": [
    "train = df.iloc[:int(len(df)*0.7)]\n",
    "test = df.iloc[int(len(df)*0.7):int(len(df)*0.9)]\n",
    "validation = df.iloc[int(len(df)*0.9):]"
   ]
  },
  {
   "cell_type": "markdown",
   "metadata": {},
   "source": [
    "*extracting x & y from data* <br>\n",
    "also remove the date filed from data"
   ]
  },
  {
   "cell_type": "code",
   "execution_count": 5,
   "metadata": {},
   "outputs": [],
   "source": [
    "y_train=train.iloc[:,73:74]\n",
    "x_train=train.iloc[:, 1:-1]\n",
    "\n",
    "y_test=test.iloc[:,73:74]\n",
    "x_test=test.iloc[:, 1:-1]\n",
    "\n",
    "y_val=validation.iloc[:,73:74]\n",
    "x_val=validation.iloc[:, 1:-1]\n"
   ]
  },
  {
   "cell_type": "markdown",
   "metadata": {},
   "source": [
    "*convert the type of the data* <br>\n",
    "from object to float <br>\n",
    "for tensor parameter"
   ]
  },
  {
   "cell_type": "code",
   "execution_count": 6,
   "metadata": {},
   "outputs": [
    {
     "name": "stdout",
     "output_type": "stream",
     "text": [
      "torch.Size([1775, 1])\n",
      "torch.Size([1775, 72])\n"
     ]
    }
   ],
   "source": [
    "#convertion for x_test\n",
    "x_test=x_test.to_numpy()\n",
    "x_test=np.vstack(x_test).astype(np.float32) \n",
    "x_test=torch.from_numpy(x_test)\n",
    "\n",
    "#also do convertion for y_test\n",
    "y_test=y_test.to_numpy()\n",
    "y_test=np.vstack(y_test).astype(np.float32)\n",
    "y_test=torch.from_numpy(y_test)\n",
    "\n",
    "#also do convertion for x_train\n",
    "x_train=x_train.to_numpy()\n",
    "x_train=np.vstack(x_train).astype(np.float32)\n",
    "x_train=torch.from_numpy(x_train)\n",
    "\n",
    "#also do convertion for y_train\n",
    "y_train=y_train.to_numpy()  \n",
    "y_train=np.vstack(y_train).astype(np.float32)\n",
    "y_train=torch.from_numpy(y_train)\n",
    "\n",
    "#also do convertion for x_val\n",
    "x_val=x_val.to_numpy()\n",
    "x_val=np.vstack(x_val).astype(np.float32)\n",
    "x_val=torch.from_numpy(x_val)\n",
    "\n",
    "#also do convertion for y_val\n",
    "y_val=y_val.to_numpy()\n",
    "y_val=np.vstack(y_val).astype(np.float32)\n",
    "y_val=torch.from_numpy(y_val)\n",
    "\n",
    "\n",
    "print(y_train.shape)\n",
    "print(x_train.shape)"
   ]
  },
  {
   "cell_type": "markdown",
   "metadata": {},
   "source": [
    "**initial the neural network model** <br>\n",
    "4 fullly connected hidden layers <br>\n",
    "first activation function is RelU and the others are Sigmoid\n",
    "<br> showed in Forward function respectively.."
   ]
  },
  {
   "cell_type": "code",
   "execution_count": 7,
   "metadata": {},
   "outputs": [],
   "source": [
    "class Feedforward(torch.nn.Module):\n",
    "        def __init__(self, input_size, hidden_size):\n",
    "            super(Feedforward, self).__init__()\n",
    "            self.input_size = input_size\n",
    "            self.hidden_size  = hidden_size\n",
    "            self.fc1 = torch.nn.Linear(self.input_size, self.hidden_size)\n",
    "            self.relu = torch.nn.ReLU()\n",
    "            self.fc2 = torch.nn.Linear(self.hidden_size, self.hidden_size)\n",
    "            self.sigmoid = torch.nn.Sigmoid()\n",
    "            self.fc3 = torch.nn.Linear(self.hidden_size,self.hidden_size)\n",
    "            self.sigmoid = torch.nn.Sigmoid()\n",
    "            self.fc4 = torch.nn.Linear(self.hidden_size, 1)\n",
    "            self.sigmoid = torch.nn.Sigmoid()\n",
    "            \n",
    "        def forward(self, x):\n",
    "            hidden = self.fc1(x)\n",
    "            relu = self.relu(hidden)\n",
    "            hidden = self.fc2(relu)\n",
    "            relu = self.relu(hidden)\n",
    "            hidden=self.fc3(relu)\n",
    "            relu = self.relu(hidden)\n",
    "            output = self.fc4(relu)\n",
    "            output = self.sigmoid(output)\n",
    "            return output"
   ]
  },
  {
   "cell_type": "markdown",
   "metadata": {},
   "source": [
    "*create model instance* <br>\n",
    "loss function: BCE <br>\n",
    "optimizer: GD <br>\n",
    "learning rate=0.01"
   ]
  },
  {
   "cell_type": "code",
   "execution_count": 16,
   "metadata": {},
   "outputs": [],
   "source": [
    "model = Feedforward(72, 50)\n",
    "criterion = torch.nn.BCEWithLogitsLoss()\n",
    "optimizer = torch.optim.SGD(model.parameters(), lr = 0.01)\n",
    "losses_list1 = []"
   ]
  },
  {
   "cell_type": "markdown",
   "metadata": {},
   "source": [
    "*Go To Evaluation Mode* <br>\n",
    "test the loss before training with evaluation datas"
   ]
  },
  {
   "cell_type": "code",
   "execution_count": 9,
   "metadata": {},
   "outputs": [
    {
     "name": "stdout",
     "output_type": "stream",
     "text": [
      "Test loss before training 0.7101112008094788\n"
     ]
    }
   ],
   "source": [
    "model.eval()\n",
    "y_pred = model(x_val)\n",
    "before_train = criterion(y_pred.squeeze(),y_val.squeeze()) \n",
    "print('Test loss before training' , before_train.item())"
   ]
  },
  {
   "cell_type": "markdown",
   "metadata": {},
   "source": [
    "*Go To Training Mode*\n",
    "for 70 epochs <br>\n",
    "print the loss in every iteration"
   ]
  },
  {
   "cell_type": "code",
   "execution_count": 18,
   "metadata": {},
   "outputs": [
    {
     "name": "stdout",
     "output_type": "stream",
     "text": [
      "Epoch 0: train loss: 1.2613261938095093\n",
      "Epoch 1: train loss: 1.2611732482910156\n",
      "Epoch 2: train loss: 1.2405903339385986\n",
      "Epoch 3: train loss: 0.6958646774291992\n",
      "Epoch 4: train loss: 0.6958626508712769\n",
      "Epoch 5: train loss: 0.695860743522644\n",
      "Epoch 6: train loss: 0.6958587169647217\n",
      "Epoch 7: train loss: 0.6958568096160889\n",
      "Epoch 8: train loss: 0.6958547830581665\n",
      "Epoch 9: train loss: 0.6958528161048889\n",
      "Epoch 10: train loss: 0.6958509683609009\n",
      "Epoch 11: train loss: 0.6958490014076233\n",
      "Epoch 12: train loss: 0.6958471536636353\n",
      "Epoch 13: train loss: 0.6958450675010681\n",
      "Epoch 14: train loss: 0.6958432197570801\n",
      "Epoch 15: train loss: 0.6958411931991577\n",
      "Epoch 16: train loss: 0.6958394050598145\n",
      "Epoch 17: train loss: 0.6958374977111816\n",
      "Epoch 18: train loss: 0.6958355903625488\n",
      "Epoch 19: train loss: 0.6958338022232056\n",
      "Epoch 20: train loss: 0.6958318948745728\n",
      "Epoch 21: train loss: 0.6958299875259399\n",
      "Epoch 22: train loss: 0.6958280801773071\n",
      "Epoch 23: train loss: 0.6958263516426086\n",
      "Epoch 24: train loss: 0.6958244442939758\n",
      "Epoch 25: train loss: 0.6958225965499878\n",
      "Epoch 26: train loss: 0.6958207488059998\n",
      "Epoch 27: train loss: 0.6958188414573669\n",
      "Epoch 28: train loss: 0.6958169937133789\n",
      "Epoch 29: train loss: 0.6958152651786804\n",
      "Epoch 30: train loss: 0.6958134174346924\n",
      "Epoch 31: train loss: 0.6958116292953491\n",
      "Epoch 32: train loss: 0.6958098411560059\n",
      "Epoch 33: train loss: 0.695807933807373\n",
      "Epoch 34: train loss: 0.6958062648773193\n",
      "Epoch 35: train loss: 0.6958044767379761\n",
      "Epoch 36: train loss: 0.695802628993988\n",
      "Epoch 37: train loss: 0.6958009004592896\n",
      "Epoch 38: train loss: 0.6957991123199463\n",
      "Epoch 39: train loss: 0.695797324180603\n",
      "Epoch 40: train loss: 0.6957955956459045\n",
      "Epoch 41: train loss: 0.6957939267158508\n",
      "Epoch 42: train loss: 0.6957921981811523\n",
      "Epoch 43: train loss: 0.6957904696464539\n",
      "Epoch 44: train loss: 0.6957886815071106\n",
      "Epoch 45: train loss: 0.6957869529724121\n",
      "Epoch 46: train loss: 0.6957852244377136\n",
      "Epoch 47: train loss: 0.6957834362983704\n",
      "Epoch 48: train loss: 0.6957818269729614\n",
      "Epoch 49: train loss: 0.6957800984382629\n",
      "Epoch 50: train loss: 0.6957783699035645\n",
      "Epoch 51: train loss: 0.695776641368866\n",
      "Epoch 52: train loss: 0.695775032043457\n",
      "Epoch 53: train loss: 0.6957734227180481\n",
      "Epoch 54: train loss: 0.6957716345787048\n",
      "Epoch 55: train loss: 0.6957699656486511\n",
      "Epoch 56: train loss: 0.6957682967185974\n",
      "Epoch 57: train loss: 0.6957666873931885\n",
      "Epoch 58: train loss: 0.6957650184631348\n",
      "Epoch 59: train loss: 0.695763349533081\n",
      "Epoch 60: train loss: 0.6957617998123169\n",
      "Epoch 61: train loss: 0.695760190486908\n",
      "Epoch 62: train loss: 0.695758581161499\n",
      "Epoch 63: train loss: 0.6957569122314453\n",
      "Epoch 64: train loss: 0.6957552433013916\n",
      "Epoch 65: train loss: 0.6957535743713379\n",
      "Epoch 66: train loss: 0.6957520842552185\n",
      "Epoch 67: train loss: 0.6957505345344543\n",
      "Epoch 68: train loss: 0.6957489252090454\n",
      "Epoch 69: train loss: 0.6957472562789917\n"
     ]
    }
   ],
   "source": [
    "model.train()\n",
    "epoch = 70\n",
    "for epoch in range(epoch):\n",
    "    optimizer.zero_grad()\n",
    "    # Forward pass\n",
    "    y_pred = model(x_train)\n",
    "    # Compute Loss\n",
    "    loss = criterion(y_pred.squeeze(), y_train.squeeze())\n",
    "    losses_list1.append(loss.item())\n",
    "   \n",
    "    print('Epoch {}: train loss: {}'.format(epoch, loss.item()))\n",
    "    # Backward pass\n",
    "    loss.backward()\n",
    "    optimizer.step()"
   ]
  },
  {
   "cell_type": "markdown",
   "metadata": {},
   "source": [
    "*Go To Evaluation Mode* <br>\n",
    "test the loss after training with test datas"
   ]
  },
  {
   "cell_type": "code",
   "execution_count": 19,
   "metadata": {},
   "outputs": [
    {
     "name": "stdout",
     "output_type": "stream",
     "text": [
      "Test loss after Training 0.6941480040550232\n"
     ]
    }
   ],
   "source": [
    "model.eval()\n",
    "y_pred = model(x_test)\n",
    "after_train = criterion(y_pred.squeeze(), y_test.squeeze()) \n",
    "print('Test loss after Training' , after_train.item())\n",
    "losses_list2 = []"
   ]
  },
  {
   "cell_type": "markdown",
   "metadata": {},
   "source": [
    "*calculate the delta of loss* <br>\n",
    "before and after training"
   ]
  },
  {
   "cell_type": "code",
   "execution_count": 13,
   "metadata": {},
   "outputs": [
    {
     "name": "stdout",
     "output_type": "stream",
     "text": [
      "Absolute difference between before and after training:  0.011317312717437744\n"
     ]
    }
   ],
   "source": [
    "delta=after_train.item()-before_train.item()\n",
    "#print absoluted difference\n",
    "print('Absolute difference between before and after training: ', abs(delta))"
   ]
  },
  {
   "cell_type": "markdown",
   "metadata": {},
   "source": [
    "*calculate Standard deviation and avrage* <br>\n",
    "for test and validation data for new learning rate=0.09 <br>\n",
    "and 20 epochs"
   ]
  },
  {
   "cell_type": "code",
   "execution_count": 24,
   "metadata": {},
   "outputs": [
    {
     "name": "stdout",
     "output_type": "stream",
     "text": [
      "Test loss after Training 0.6937658786773682\n",
      "Standard deviation of after_train and before_train:  0.0\n",
      "Average of after_train and before_train:  1.403877079486847\n"
     ]
    }
   ],
   "source": [
    "optimizer = torch.optim.SGD(model.parameters(), lr = 0.09)\n",
    "\n",
    "model.train()\n",
    "epoch = 20\n",
    "for epoch in range(epoch):\n",
    "    optimizer.zero_grad()\n",
    "    # Forward pass\n",
    "    y_pred = model(x_train)\n",
    "    # Compute Loss\n",
    "    loss = criterion(y_pred.squeeze(), y_train.squeeze())\n",
    "    losses_list2.append(loss.item())\n",
    "   \n",
    "    #print('Epoch {}: train loss: {}'.format(epoch, loss.item()))\n",
    "    # Backward pass\n",
    "    loss.backward()\n",
    "    optimizer.step()\n",
    "    \n",
    "model.eval()\n",
    "y_pred = model(x_test)\n",
    "after_train = criterion(y_pred.squeeze(), y_test.squeeze()) \n",
    "print('Test loss after Training' , after_train.item())\n",
    "\n",
    "#print standard deviation of after_train and before_train\n",
    "print('Standard deviation of after_train and before_train: ', np.std(after_train.item()+before_train.item()))\n",
    "\n",
    "#print average of after_train and before_train\n",
    "print('Average of after_train and before_train: ', np.mean(after_train.item()+before_train.item()))"
   ]
  },
  {
   "cell_type": "markdown",
   "metadata": {},
   "source": [
    "*find model overfitting or underfitting* <br>\n",
    "if model overfitting then loss will be high <br>\n",
    "if model underfitting then loss will be low <br>"
   ]
  },
  {
   "cell_type": "code",
   "execution_count": 25,
   "metadata": {},
   "outputs": [
    {
     "data": {
      "image/png": "[encoded data removed]",
      "text/plain": [
       "<Figure size 432x288 with 1 Axes>"
      ]
     },
     "metadata": {
      "needs_background": "light"
     },
     "output_type": "display_data"
    }
   ],
   "source": [
    "#plot losses_list1 and losses_list2 with labels\n",
    "from matplotlib import pyplot as plt    \n",
    "plt.plot(losses_list1, label='before training')\n",
    "plt.plot(losses_list2, label='after training')\n",
    "plt.legend()\n",
    "plt.show()"
   ]
  }
 ],
 "metadata": {
  "interpreter": {
   "hash": "5ff9d546f78a45e6703bb7c09f46b817ecce56a1eb2e1f2195fbbfca60f66129"
  },
  "kernelspec": {
   "display_name": "Python 3.10.2 64-bit",
   "language": "python",
   "name": "python3"
  },
  "language_info": {
   "codemirror_mode": {
    "name": "ipython",
    "version": 3
   },
   "file_extension": ".py",
   "mimetype": "text/x-python",
   "name": "python",
   "nbconvert_exporter": "python",
   "pygments_lexer": "ipython3",
   "version": "3.10.2"
  },
  "orig_nbformat": 4
 },
 "nbformat": 4,
 "nbformat_minor": 2
}
